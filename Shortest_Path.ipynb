{
 "cells": [
  {
   "cell_type": "code",
   "execution_count": 1,
   "id": "c134ec4d",
   "metadata": {},
   "outputs": [],
   "source": [
    "import numpy as np\n",
    "import matplotlib.pyplot as plt\n",
    "import pandas as pd\n",
    "import math\n",
    "from geopy import distance\n",
    "import networkx as nx"
   ]
  },
  {
   "cell_type": "markdown",
   "id": "415dd80d-400d-4ad8-bd2e-a16fe5576361",
   "metadata": {},
   "source": [
    "# Part 1"
   ]
  },
  {
   "cell_type": "code",
   "execution_count": 13,
   "id": "2c5f8fed",
   "metadata": {},
   "outputs": [
    {
     "data": {
      "text/html": [
       "<div>\n",
       "<style scoped>\n",
       "    .dataframe tbody tr th:only-of-type {\n",
       "        vertical-align: middle;\n",
       "    }\n",
       "\n",
       "    .dataframe tbody tr th {\n",
       "        vertical-align: top;\n",
       "    }\n",
       "\n",
       "    .dataframe thead th {\n",
       "        text-align: right;\n",
       "    }\n",
       "</style>\n",
       "<table border=\"1\" class=\"dataframe\">\n",
       "  <thead>\n",
       "    <tr style=\"text-align: right;\">\n",
       "      <th></th>\n",
       "      <th>start</th>\n",
       "      <th>end</th>\n",
       "      <th>start_lat</th>\n",
       "      <th>start_long</th>\n",
       "      <th>end_lat</th>\n",
       "      <th>end_long</th>\n",
       "      <th>dist</th>\n",
       "    </tr>\n",
       "  </thead>\n",
       "  <tbody>\n",
       "    <tr>\n",
       "      <th>0</th>\n",
       "      <td>Abel_Wolman_House</td>\n",
       "      <td>Steinwald_House</td>\n",
       "      <td>39.327692</td>\n",
       "      <td>-76.617195</td>\n",
       "      <td>39.327575</td>\n",
       "      <td>-76.617256</td>\n",
       "      <td>13.980812</td>\n",
       "    </tr>\n",
       "    <tr>\n",
       "      <th>1</th>\n",
       "      <td>Ames_Hall</td>\n",
       "      <td>Krieger_Hall</td>\n",
       "      <td>39.328583</td>\n",
       "      <td>-76.620791</td>\n",
       "      <td>39.328616</td>\n",
       "      <td>-76.619988</td>\n",
       "      <td>69.154715</td>\n",
       "    </tr>\n",
       "    <tr>\n",
       "      <th>2</th>\n",
       "      <td>AMR3</td>\n",
       "      <td>AMR2</td>\n",
       "      <td>39.331919</td>\n",
       "      <td>-76.619787</td>\n",
       "      <td>39.331473</td>\n",
       "      <td>-76.619129</td>\n",
       "      <td>75.306591</td>\n",
       "    </tr>\n",
       "    <tr>\n",
       "      <th>3</th>\n",
       "      <td>AMR1</td>\n",
       "      <td>AMR2</td>\n",
       "      <td>39.330674</td>\n",
       "      <td>-76.618483</td>\n",
       "      <td>39.331473</td>\n",
       "      <td>-76.619129</td>\n",
       "      <td>104.854241</td>\n",
       "    </tr>\n",
       "    <tr>\n",
       "      <th>4</th>\n",
       "      <td>AMR2</td>\n",
       "      <td>AMR3</td>\n",
       "      <td>39.331473</td>\n",
       "      <td>-76.619129</td>\n",
       "      <td>39.331919</td>\n",
       "      <td>-76.619787</td>\n",
       "      <td>75.306591</td>\n",
       "    </tr>\n",
       "  </tbody>\n",
       "</table>\n",
       "</div>"
      ],
      "text/plain": [
       "               start              end  start_lat  start_long    end_lat  \\\n",
       "0  Abel_Wolman_House  Steinwald_House  39.327692  -76.617195  39.327575   \n",
       "1          Ames_Hall     Krieger_Hall  39.328583  -76.620791  39.328616   \n",
       "2               AMR3             AMR2  39.331919  -76.619787  39.331473   \n",
       "3               AMR1             AMR2  39.330674  -76.618483  39.331473   \n",
       "4               AMR2             AMR3  39.331473  -76.619129  39.331919   \n",
       "\n",
       "    end_long        dist  \n",
       "0 -76.617256   13.980812  \n",
       "1 -76.619988   69.154715  \n",
       "2 -76.619129   75.306591  \n",
       "3 -76.619129  104.854241  \n",
       "4 -76.619787   75.306591  "
      ]
     },
     "execution_count": 13,
     "metadata": {},
     "output_type": "execute_result"
    }
   ],
   "source": [
    "# Import Campus Paths\n",
    "# Each row corresponds to a walkway between buildings on campus. There is a start building, an end building, \n",
    "# the latitudes and longitudes of the start and end buildings, and a distance in meters.\n",
    "\n",
    "header_list = [\"start\", \"end\", \"start_lat\", \"start_long\", \"end_lat\", \"end_long\",  \"dist\"]\n",
    "buildings_df = pd.read_csv('data/campus_paths.txt', sep=\" \", header=None, names=header_list)\n",
    "buildings_df.head()"
   ]
  },
  {
   "cell_type": "code",
   "execution_count": 3,
   "id": "cc61ed8b",
   "metadata": {},
   "outputs": [],
   "source": [
    "# This calculates the distance based on geospatial coordinates and compares it to\n",
    "# listed distance in the dataframe. Should be very close.\n",
    "\n",
    "def compare_dist(i):\n",
    "    expected = buildings_df[\"dist\"][i]\n",
    "    \n",
    "    c1 = np.array([buildings_df[\"start_lat\"][i], buildings_df[\"start_long\"][i]])\n",
    "    c2 = np.array([buildings_df[\"end_lat\"][i], buildings_df[\"end_long\"][i]])\n",
    "\n",
    "    actual = distance.distance(c1, c2).meters\n",
    "    print(expected, actual)"
   ]
  },
  {
   "cell_type": "code",
   "execution_count": 4,
   "id": "46354396-f4c6-4ace-a3dc-d4c7d362b66c",
   "metadata": {},
   "outputs": [],
   "source": [
    "# Create undirected graph with the buildings as nodes walkwalys between buildings as edges\n",
    "# Edges have attributes: \"start\" and \"end\" which are the buildings the edge connects\n",
    "# Edge attribute \"dist\" is the distance between buildings\n",
    "\n",
    "G=nx.from_pandas_edgelist(buildings_df, 'start', 'end', 'dist') "
   ]
  },
  {
   "cell_type": "code",
   "execution_count": 5,
   "id": "52fccf00-609f-4fd1-be9e-7c359326f027",
   "metadata": {},
   "outputs": [
    {
     "data": {
      "image/png": "[encoded data removed]",
      "text/plain": [
       "<Figure size 432x288 with 1 Axes>"
      ]
     },
     "metadata": {},
     "output_type": "display_data"
    }
   ],
   "source": [
    "# Make a list of the lattitudes and longitudes of all the buildings\n",
    "# Draw the map of campus where the nodes' (x,y) positions are the latitude and logngitudes\n",
    "\n",
    "pos = {}\n",
    "\n",
    "for n in G.nodes():\n",
    "    l1 = buildings_df.loc[buildings_df['start'] == n].index.tolist()\n",
    "    l2 = buildings_df.loc[buildings_df['end'] == n].index.tolist()\n",
    "    \n",
    "    if len(l1) > 0:\n",
    "        coords = (buildings_df['start_long'][l1[0]], buildings_df['start_lat'][l1[0]])\n",
    "    else:\n",
    "        coords = (buildings_df['end_long'][l2[0]], buildings_df['end_lat'][l2[0]])\n",
    "    \n",
    "    pos[n] = (coords)\n",
    "    \n",
    "nx.set_node_attributes(G, pos, \"pos\")\n",
    "nx.draw(G, pos, node_size = .1, with_labels = False)"
   ]
  },
  {
   "cell_type": "code",
   "execution_count": 12,
   "id": "15cd6c49-3158-4d7c-9fc7-2b4adba56e4f",
   "metadata": {},
   "outputs": [
    {
     "data": {
      "text/html": [
       "<div>\n",
       "<style scoped>\n",
       "    .dataframe tbody tr th:only-of-type {\n",
       "        vertical-align: middle;\n",
       "    }\n",
       "\n",
       "    .dataframe tbody tr th {\n",
       "        vertical-align: top;\n",
       "    }\n",
       "\n",
       "    .dataframe thead th {\n",
       "        text-align: right;\n",
       "    }\n",
       "</style>\n",
       "<table border=\"1\" class=\"dataframe\">\n",
       "  <thead>\n",
       "    <tr style=\"text-align: right;\">\n",
       "      <th></th>\n",
       "      <th>building</th>\n",
       "      <th>room_num</th>\n",
       "      <th>capacity</th>\n",
       "      <th>School</th>\n",
       "    </tr>\n",
       "  </thead>\n",
       "  <tbody>\n",
       "    <tr>\n",
       "      <th>0</th>\n",
       "      <td>Ames_Hall</td>\n",
       "      <td>218</td>\n",
       "      <td>41</td>\n",
       "      <td>AS</td>\n",
       "    </tr>\n",
       "    <tr>\n",
       "      <th>1</th>\n",
       "      <td>Ames_Hall</td>\n",
       "      <td>234</td>\n",
       "      <td>60</td>\n",
       "      <td>AS</td>\n",
       "    </tr>\n",
       "    <tr>\n",
       "      <th>2</th>\n",
       "      <td>Bloomberg_Hall</td>\n",
       "      <td>168</td>\n",
       "      <td>48</td>\n",
       "      <td>AS</td>\n",
       "    </tr>\n",
       "    <tr>\n",
       "      <th>3</th>\n",
       "      <td>Bloomberg_Hall</td>\n",
       "      <td>172</td>\n",
       "      <td>20</td>\n",
       "      <td>AS</td>\n",
       "    </tr>\n",
       "    <tr>\n",
       "      <th>4</th>\n",
       "      <td>Bloomberg_Hall</td>\n",
       "      <td>176</td>\n",
       "      <td>34</td>\n",
       "      <td>AS</td>\n",
       "    </tr>\n",
       "  </tbody>\n",
       "</table>\n",
       "</div>"
      ],
      "text/plain": [
       "         building room_num  capacity School\n",
       "0       Ames_Hall      218        41     AS\n",
       "1       Ames_Hall      234        60     AS\n",
       "2  Bloomberg_Hall      168        48     AS\n",
       "3  Bloomberg_Hall      172        20     AS\n",
       "4  Bloomberg_Hall      176        34     AS"
      ]
     },
     "execution_count": 12,
     "metadata": {},
     "output_type": "execute_result"
    }
   ],
   "source": [
    "# Import Room Data\n",
    "# Each row corresponds to a room in a building.\n",
    "# The building, room number, capacity of the room, and the school to which the building belongs is listed each row\n",
    "\n",
    "header_list = [\"building\", \"room_num\", \"capacity\", \"School\"]\n",
    "rooms_df = pd.read_csv('data/available_rooms.txt', sep=\" \", header=None, names=header_list)\n",
    "rooms_df.head()"
   ]
  },
  {
   "cell_type": "code",
   "execution_count": 7,
   "id": "3664916d-f7f7-4b80-aad3-c0ee9d4aabc3",
   "metadata": {},
   "outputs": [
    {
     "name": "stdout",
     "output_type": "stream",
     "text": [
      "Buildings with available rooms: \n",
      " ['Ames_Hall' 'Bloomberg_Hall' 'Croft_Hall' 'Gilman_Hall' 'Greenhouse'\n",
      " 'Hodson_Hall' 'Krieger_Hall' 'Latrobe_Hall' 'Maryland_Hall'\n",
      " 'Mergenthaler_Hall' 'Mudd_Hall' 'Olin_Hall' 'Remsen_Hall' 'Shaffer_Hall'\n",
      " 'Shriver_Hall'] \n",
      "\n",
      "All buildings: \n",
      " ['Abel_Wolman_House', 'Steinwald_House', 'Ames_Hall', 'Krieger_Hall', 'AMR3', 'AMR2', 'AMR1', 'Baltimore_Museum_of_Art', 'Shriver_Hall', 'Barnes_&_Noble', 'Charles_Commons', 'Barton_Hall', 'Hackerman_Hall', 'Bloomberg_Hall', 'Steven_Muller_Bldg.', 'BMA_Sculpture_Garden', 'Bradford_Apts.', 'Brody_Learning_Commons', 'Merrick_Barn', 'Bunting_Meyerhoff_Interfaith_and_Community_Service_Center', 'Rogers_House', 'Chemistry_Bldg.', 'Macaulay_Hall', 'Clark_Hall', 'Hodson_Hall', 'Croft_Hall', 'Shaffer_Hall', 'Dell_House', 'Education_Building', 'Dunning_Hall', 'Garland_Hall', 'Gatehouse', 'Power_Plant', 'Gilman_Hall', 'Glass_Pavilion', 'Levering_Hall', 'Greenhouse', 'Nichols_House', 'Homewood_Apts.', 'Smokler_Center_for_Jewish_Life_(Hillel)', 'Homewood_Field', 'ROTC_Bldg', 'Homewood_Museum', 'Milton_S._Eisenhower_Library', 'Johns_Hopkins_Club', 'Lacrosse_Hall_of_Fame', 'Latrobe_Hall', 'Malone_Hall', 'Maryland_Hall', 'Mason_Hall', 'Mattin_Center', 'McCoy_Hall', 'Wolman_Hall', 'Mergenthaler_Hall', 'Remsen_Hall', 'Mudd_Hall', 'Undergraduate_Teaching_Labs', 'Olin_Hall', 'Whitehead_Hall', \"Ralph_S._O'Connor_Recreation_Center\", 'San_Martin_Center', 'Maxine_F._Singer_Bldg.', 'The_Blackstone_Apts.', 'The_Charles_Apts.', 'Wyman_Park_Bldg.']\n"
     ]
    }
   ],
   "source": [
    "# Print a list of all buildings with available rooms and the buildings on campus\n",
    "\n",
    "targets = rooms_df.building.unique()\n",
    "sources = G.nodes()\n",
    "print(\"Buildings with available rooms: \\n\", targets, \"\\n\")\n",
    "print(\"All buildings: \\n\", sources)"
   ]
  },
  {
   "cell_type": "code",
   "execution_count": 8,
   "id": "b19af8af-4ac6-4008-8883-5a025ec220d9",
   "metadata": {},
   "outputs": [],
   "source": [
    "# Input a random starting point of your destination, and it will find the closest available building with classrooms\n",
    "# Output is a list of tuples, where the first argument is the name of the building, the second it the total distance between the\n",
    "# starting building and that building, and the third is a list of buildings that forms the path.\n",
    "\n",
    "def Sort_Tuple(tup): \n",
    "    tup.sort(key = lambda x: x[1]) \n",
    "    return tup \n",
    "\n",
    "def find_closest_rooms(s):\n",
    "    targets_paths = []\n",
    "\n",
    "    for t in targets:\n",
    "        path = nx.shortest_path(G, source=s, target=t, weight='dist')\n",
    "        length = nx.shortest_path_length(G, s, t, weight='dist')\n",
    "        targets_paths.append((t, length, path))\n",
    "        \n",
    "    sorted_target_paths = Sort_Tuple(targets_paths)\n",
    "    \n",
    "    return sorted_target_paths"
   ]
  },
  {
   "cell_type": "code",
   "execution_count": 10,
   "id": "7452d10d-e7ef-426f-b8a2-6194b04d3d18",
   "metadata": {},
   "outputs": [
    {
     "name": "stdout",
     "output_type": "stream",
     "text": [
      "('Mudd_Hall', 80.35736133574507, ['Dunning_Hall', 'Mudd_Hall'])\n",
      "('Mergenthaler_Hall', 81.10789369129459, ['Dunning_Hall', 'Mergenthaler_Hall'])\n",
      "('Remsen_Hall', 84.02193188902837, ['Dunning_Hall', 'Remsen_Hall'])\n",
      "('Krieger_Hall', 178.59753762336817, ['Dunning_Hall', 'Remsen_Hall', 'Krieger_Hall'])\n",
      "('Gilman_Hall', 191.82398724921518, ['Dunning_Hall', 'Mergenthaler_Hall', 'Gilman_Hall'])\n",
      "('Ames_Hall', 247.7522530701554, ['Dunning_Hall', 'Remsen_Hall', 'Krieger_Hall', 'Ames_Hall'])\n",
      "('Maryland_Hall', 248.41793742510214, ['Dunning_Hall', 'Remsen_Hall', 'Krieger_Hall', 'Maryland_Hall'])\n",
      "('Greenhouse', 276.9690029301818, ['Dunning_Hall', 'Mergenthaler_Hall', 'Gilman_Hall', 'Greenhouse'])\n",
      "('Latrobe_Hall', 322.0685121100172, ['Dunning_Hall', 'Remsen_Hall', 'Krieger_Hall', 'Maryland_Hall', 'Latrobe_Hall'])\n",
      "('Shaffer_Hall', 338.50480386590795, ['Dunning_Hall', 'Remsen_Hall', 'Krieger_Hall', 'Maryland_Hall', 'Shaffer_Hall'])\n",
      "('Croft_Hall', 348.38111985315487, ['Dunning_Hall', 'Remsen_Hall', 'Krieger_Hall', 'Maryland_Hall', 'Croft_Hall'])\n",
      "('Hodson_Hall', 358.9447359876472, ['Dunning_Hall', 'Mergenthaler_Hall', 'Gilman_Hall', 'Glass_Pavilion', 'Hodson_Hall'])\n",
      "('Bloomberg_Hall', 376.80857791820756, ['Dunning_Hall', 'Macaulay_Hall', 'Johns_Hopkins_Club', 'Bloomberg_Hall'])\n",
      "('Olin_Hall', 415.64274958152726, ['Dunning_Hall', 'Mergenthaler_Hall', 'Gilman_Hall', 'Glass_Pavilion', 'Olin_Hall'])\n",
      "('Shriver_Hall', 427.7672991869734, ['Dunning_Hall', 'Remsen_Hall', 'Krieger_Hall', 'Maryland_Hall', 'Shaffer_Hall', 'Shriver_Hall'])\n"
     ]
    }
   ],
   "source": [
    "# Example output from previous function\n",
    "\n",
    "s = 'Dunning_Hall'\n",
    "closest_rooms = find_closest_rooms(s)\n",
    "\n",
    "for closest in closest_rooms:\n",
    "    print(closest)"
   ]
  }
 ],
 "metadata": {
  "kernelspec": {
   "display_name": "firstEnv",
   "language": "python",
   "name": "firstenv"
  },
  "language_info": {
   "codemirror_mode": {
    "name": "ipython",
    "version": 3
   },
   "file_extension": ".py",
   "mimetype": "text/x-python",
   "name": "python",
   "nbconvert_exporter": "python",
   "pygments_lexer": "ipython3",
   "version": "3.9.7"
  }
 },
 "nbformat": 4,
 "nbformat_minor": 5
}
