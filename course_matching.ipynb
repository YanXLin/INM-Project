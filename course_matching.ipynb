{
 "cells": [
  {
   "cell_type": "code",
   "execution_count": 70,
   "id": "7327e984",
   "metadata": {},
   "outputs": [],
   "source": [
    "import numpy as np\n",
    "import matplotlib.pyplot as plt\n",
    "import pandas as pd\n",
    "import math\n",
    "from geopy import distance\n",
    "import networkx as nx\n",
    "from scipy.optimize import linear_sum_assignment\n",
    "from docplex.cp.model import CpoModel, INTERVAL_MIN\n",
    "import types\n",
    "import docplex.cp.utils_visu as visu"
   ]
  },
  {
   "cell_type": "code",
   "execution_count": 78,
   "id": "2d355f5c",
   "metadata": {},
   "outputs": [],
   "source": [
    "header_list = [\"Location\", \"Room#\", \"Capacity\",\"Type\"]\n",
    "ar = pd.read_csv('https://raw.githubusercontent.com/YttriumloveIodine/INM-Project/main/data/available_rooms.txt', sep=\" \", header=None, names=header_list)\n",
    "cs = pd.read_csv('https://raw.githubusercontent.com/YttriumloveIodine/INM-Project/main/data/course_data.csv', sep=\",\", header=0)\n",
    "ar[\"rooms\"] = ar[\"Location\"]+' '+ar[\"Room#\"]\n",
    "cs[\"Time\"] = cs[\"Start Time\"]+'-'+cs[\"End Time\"]\n",
    "df1 = pd.DataFrame(ar)\n",
    "df2 = pd.DataFrame(cs)"
   ]
  },
  {
   "cell_type": "code",
   "execution_count": 84,
   "id": "8e7e5e67",
   "metadata": {},
   "outputs": [
    {
     "data": {
      "text/plain": [
       "500"
      ]
     },
     "execution_count": 84,
     "metadata": {},
     "output_type": "execute_result"
    }
   ],
   "source": [
    "\n",
    "\n",
    "df_course = df2['Course #']\n",
    "df_room = df1['rooms']\n",
    "df_time = df2['Time']\n",
    "df_space = df1['Capacity']\n",
    "df_seat = df2['Seats']\n",
    "rooms = df_room.size\n",
    "courses = df_course.size"
   ]
  },
  {
   "cell_type": "code",
   "execution_count": null,
   "id": "b3ead8f0",
   "metadata": {},
   "outputs": [],
   "source": [
    "mdl = CpoModel() #create model\n",
    "def course_match(loc,t,)git p"
   ]
  }
 ],
 "metadata": {
  "kernelspec": {
   "display_name": "Python 3",
   "language": "python",
   "name": "python3"
  },
  "language_info": {
   "codemirror_mode": {
    "name": "ipython",
    "version": 3
   },
   "file_extension": ".py",
   "mimetype": "text/x-python",
   "name": "python",
   "nbconvert_exporter": "python",
   "pygments_lexer": "ipython3",
   "version": "3.8.8"
  }
 },
 "nbformat": 4,
 "nbformat_minor": 5
}
